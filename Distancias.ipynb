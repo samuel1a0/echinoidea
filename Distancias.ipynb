{
 "cells": [
  {
   "cell_type": "code",
   "execution_count": 1,
   "metadata": {
    "collapsed": false
   },
   "outputs": [],
   "source": [
    "import pandas as pd\n",
    "import numpy as np\n",
    "import matplotlib.pyplot as plt\n",
    "from scipy.cluster.hierarchy import dendrogram\n",
    "from scipy.cluster.hierarchy import linkage"
   ]
  },
  {
   "cell_type": "code",
   "execution_count": 2,
   "metadata": {
    "collapsed": false,
    "scrolled": true
   },
   "outputs": [
    {
     "data": {
      "text/html": [
       "<div>\n",
       "<table border=\"1\" class=\"dataframe\">\n",
       "  <thead>\n",
       "    <tr style=\"text-align: right;\">\n",
       "      <th></th>\n",
       "      <th>H</th>\n",
       "      <th>j</th>\n",
       "      <th>c</th>\n",
       "    </tr>\n",
       "  </thead>\n",
       "  <tbody>\n",
       "    <tr>\n",
       "      <th>E1</th>\n",
       "      <td>0.36</td>\n",
       "      <td>0.79</td>\n",
       "      <td>0.69</td>\n",
       "    </tr>\n",
       "    <tr>\n",
       "      <th>E2</th>\n",
       "      <td>0.72</td>\n",
       "      <td>0.51</td>\n",
       "      <td>0.46</td>\n",
       "    </tr>\n",
       "    <tr>\n",
       "      <th>E3</th>\n",
       "      <td>0.92</td>\n",
       "      <td>0.50</td>\n",
       "      <td>0.14</td>\n",
       "    </tr>\n",
       "    <tr>\n",
       "      <th>E4</th>\n",
       "      <td>0.83</td>\n",
       "      <td>0.57</td>\n",
       "      <td>0.32</td>\n",
       "    </tr>\n",
       "  </tbody>\n",
       "</table>\n",
       "</div>"
      ],
      "text/plain": [
       "       H     j     c\n",
       "E1  0.36  0.79  0.69\n",
       "E2  0.72  0.51  0.46\n",
       "E3  0.92  0.50  0.14\n",
       "E4  0.83  0.57  0.32"
      ]
     },
     "execution_count": 2,
     "metadata": {},
     "output_type": "execute_result"
    }
   ],
   "source": [
    "# arr = np.array([[.65, .185, .1, .1],\n",
    "#        [.26, .109, .039, .06],\n",
    "#        [.925, .3, .077, .169]])\n",
    "arr = np.array([[.36, .72, .92, .83],\n",
    "       [.79, .51, .5, .57],\n",
    "       [.69, .46, .14, .32]])\n",
    "arr = arr.T\n",
    "df = pd.DataFrame(arr, columns=[\"H\", \"j\", \"c\"], index=[\"E1\", \"E2\", \"E3\", \"E4\"])\n",
    "df"
   ]
  },
  {
   "cell_type": "code",
   "execution_count": 3,
   "metadata": {
    "collapsed": false
   },
   "outputs": [
    {
     "data": {
      "text/html": [
       "<div>\n",
       "<table border=\"1\" class=\"dataframe\">\n",
       "  <thead>\n",
       "    <tr style=\"text-align: right;\">\n",
       "      <th></th>\n",
       "      <th>H</th>\n",
       "      <th>j</th>\n",
       "      <th>c</th>\n",
       "    </tr>\n",
       "  </thead>\n",
       "  <tbody>\n",
       "    <tr>\n",
       "      <th>count</th>\n",
       "      <td>4.000000</td>\n",
       "      <td>4.000000</td>\n",
       "      <td>4.000000</td>\n",
       "    </tr>\n",
       "    <tr>\n",
       "      <th>mean</th>\n",
       "      <td>0.707500</td>\n",
       "      <td>0.592500</td>\n",
       "      <td>0.402500</td>\n",
       "    </tr>\n",
       "    <tr>\n",
       "      <th>std</th>\n",
       "      <td>0.245679</td>\n",
       "      <td>0.135247</td>\n",
       "      <td>0.232146</td>\n",
       "    </tr>\n",
       "    <tr>\n",
       "      <th>min</th>\n",
       "      <td>0.360000</td>\n",
       "      <td>0.500000</td>\n",
       "      <td>0.140000</td>\n",
       "    </tr>\n",
       "    <tr>\n",
       "      <th>25%</th>\n",
       "      <td>0.630000</td>\n",
       "      <td>0.507500</td>\n",
       "      <td>0.275000</td>\n",
       "    </tr>\n",
       "    <tr>\n",
       "      <th>50%</th>\n",
       "      <td>0.775000</td>\n",
       "      <td>0.540000</td>\n",
       "      <td>0.390000</td>\n",
       "    </tr>\n",
       "    <tr>\n",
       "      <th>75%</th>\n",
       "      <td>0.852500</td>\n",
       "      <td>0.625000</td>\n",
       "      <td>0.517500</td>\n",
       "    </tr>\n",
       "    <tr>\n",
       "      <th>max</th>\n",
       "      <td>0.920000</td>\n",
       "      <td>0.790000</td>\n",
       "      <td>0.690000</td>\n",
       "    </tr>\n",
       "  </tbody>\n",
       "</table>\n",
       "</div>"
      ],
      "text/plain": [
       "              H         j         c\n",
       "count  4.000000  4.000000  4.000000\n",
       "mean   0.707500  0.592500  0.402500\n",
       "std    0.245679  0.135247  0.232146\n",
       "min    0.360000  0.500000  0.140000\n",
       "25%    0.630000  0.507500  0.275000\n",
       "50%    0.775000  0.540000  0.390000\n",
       "75%    0.852500  0.625000  0.517500\n",
       "max    0.920000  0.790000  0.690000"
      ]
     },
     "execution_count": 3,
     "metadata": {},
     "output_type": "execute_result"
    }
   ],
   "source": [
    "# Descripción del dataframe\n",
    "df.describe()"
   ]
  },
  {
   "cell_type": "code",
   "execution_count": 4,
   "metadata": {
    "collapsed": false
   },
   "outputs": [
    {
     "data": {
      "text/html": [
       "<div>\n",
       "<table border=\"1\" class=\"dataframe\">\n",
       "  <thead>\n",
       "    <tr style=\"text-align: right;\">\n",
       "      <th></th>\n",
       "      <th>H</th>\n",
       "      <th>j</th>\n",
       "      <th>c</th>\n",
       "    </tr>\n",
       "  </thead>\n",
       "  <tbody>\n",
       "    <tr>\n",
       "      <th>H</th>\n",
       "      <td>1.000000</td>\n",
       "      <td>-0.923688</td>\n",
       "      <td>-0.964785</td>\n",
       "    </tr>\n",
       "    <tr>\n",
       "      <th>j</th>\n",
       "      <td>-0.923688</td>\n",
       "      <td>1.000000</td>\n",
       "      <td>0.829964</td>\n",
       "    </tr>\n",
       "    <tr>\n",
       "      <th>c</th>\n",
       "      <td>-0.964785</td>\n",
       "      <td>0.829964</td>\n",
       "      <td>1.000000</td>\n",
       "    </tr>\n",
       "  </tbody>\n",
       "</table>\n",
       "</div>"
      ],
      "text/plain": [
       "          H         j         c\n",
       "H  1.000000 -0.923688 -0.964785\n",
       "j -0.923688  1.000000  0.829964\n",
       "c -0.964785  0.829964  1.000000"
      ]
     },
     "execution_count": 4,
     "metadata": {},
     "output_type": "execute_result"
    }
   ],
   "source": [
    "# Nivel de Correlación entre las columnas del dataframe\n",
    "df.corr()"
   ]
  },
  {
   "cell_type": "code",
   "execution_count": 5,
   "metadata": {
    "collapsed": false
   },
   "outputs": [
    {
     "data": {
      "image/png": "[encoded data removed]",
      "text/plain": [
       "<matplotlib.figure.Figure at 0x7f45858ecb70>"
      ]
     },
     "metadata": {},
     "output_type": "display_data"
    }
   ],
   "source": [
    "def augmented_dendrogram(*args, **kwargs):\n",
    "\n",
    "    ddata = dendrogram(*args, **kwargs)\n",
    "\n",
    "#     if not kwargs.get('no_plot', False):\n",
    "#         for i, d in zip(ddata['icoord'], ddata['dcoord']):\n",
    "#             x = 0.5 * sum(i[1:3])\n",
    "#             y = d[1]\n",
    "#             plt.plot(x, y, 'ro')\n",
    "#             plt.annotate(\"%.3g\" % y, (x, y), xytext=(0, -8),\n",
    "#                          textcoords='offset points',\n",
    "#                          va='top', ha='center')\n",
    "\n",
    "    return ddata\n",
    "\n",
    "linkage_matrix = linkage(arr, \"single\")\n",
    "\n",
    "plt.figure()#1, 2, 1)\n",
    "\n",
    "# ddata = augmented_dendrogram(linkage_matrix,\n",
    "ddata = dendrogram(linkage_matrix,\n",
    "                             labels=[\"E1\", \"E2\", \"E3\", \"E4\"],\n",
    "                             color_threshold=1,\n",
    "                             p=6,\n",
    "                             truncate_mode=None\n",
    "            #                truncate_mode='lastp'\n",
    "                           )\n",
    "# plt.title(\"Dendograma\")\n",
    "\n",
    "plt.show()"
   ]
  },
  {
   "cell_type": "markdown",
   "metadata": {},
   "source": [
    "## Distancias"
   ]
  },
  {
   "cell_type": "code",
   "execution_count": 6,
   "metadata": {
    "collapsed": false
   },
   "outputs": [
    {
     "data": {
      "text/html": [
       "<div>\n",
       "<table border=\"1\" class=\"dataframe\">\n",
       "  <thead>\n",
       "    <tr style=\"text-align: right;\">\n",
       "      <th></th>\n",
       "      <th>E1</th>\n",
       "      <th>E2</th>\n",
       "      <th>E3</th>\n",
       "      <th>E4</th>\n",
       "    </tr>\n",
       "  </thead>\n",
       "  <tbody>\n",
       "    <tr>\n",
       "      <th>E1</th>\n",
       "      <td>0.000000</td>\n",
       "      <td>0.510784</td>\n",
       "      <td>0.836780</td>\n",
       "      <td>0.637338</td>\n",
       "    </tr>\n",
       "    <tr>\n",
       "      <th>E2</th>\n",
       "      <td>0.510784</td>\n",
       "      <td>0.000000</td>\n",
       "      <td>0.377492</td>\n",
       "      <td>0.187883</td>\n",
       "    </tr>\n",
       "    <tr>\n",
       "      <th>E3</th>\n",
       "      <td>0.836780</td>\n",
       "      <td>0.377492</td>\n",
       "      <td>0.000000</td>\n",
       "      <td>0.213073</td>\n",
       "    </tr>\n",
       "    <tr>\n",
       "      <th>E4</th>\n",
       "      <td>0.637338</td>\n",
       "      <td>0.187883</td>\n",
       "      <td>0.213073</td>\n",
       "      <td>0.000000</td>\n",
       "    </tr>\n",
       "  </tbody>\n",
       "</table>\n",
       "</div>"
      ],
      "text/plain": [
       "          E1        E2        E3        E4\n",
       "E1  0.000000  0.510784  0.836780  0.637338\n",
       "E2  0.510784  0.000000  0.377492  0.187883\n",
       "E3  0.836780  0.377492  0.000000  0.213073\n",
       "E4  0.637338  0.187883  0.213073  0.000000"
      ]
     },
     "execution_count": 6,
     "metadata": {},
     "output_type": "execute_result"
    }
   ],
   "source": [
    "dist_df = pd.DataFrame(columns=df.index)\n",
    "for i, a in enumerate(arr):\n",
    "    dist = [np.linalg.norm(a-x) for x in arr]\n",
    "    dist_df.loc[i] = dist\n",
    "#     print(a, dist)\n",
    "dist_df.index = df.index\n",
    "dist_df"
   ]
  },
  {
   "cell_type": "markdown",
   "metadata": {},
   "source": [
    "### Por si necesitas las distancias despues de unidas las estaciones... (>_<)"
   ]
  },
  {
   "cell_type": "code",
   "execution_count": 7,
   "metadata": {
    "collapsed": false
   },
   "outputs": [
    {
     "name": "stdout",
     "output_type": "stream",
     "text": [
      "Dist: E2-E4 = 0.18788294228055935 (hereinafter, E5)\n",
      "Dist: E3-E5 = 0.2130727575266252 (hereinafter, E6)\n",
      "Dist: E1-E6 = 0.5107837115648853 (hereinafter, E7)\n"
     ]
    }
   ],
   "source": [
    "distancias_combinadas = linkage(df, \"single\")\n",
    "ac_cols = [x for x in range(len(dist_df.columns))]\n",
    "for c1, c2, dis, x in distancias_combinadas:\n",
    "    n = len(ac_cols)+1\n",
    "    print(\"Dist: E{}-E{} = {} (hereinafter, E{})\".format(int(c1+1), int(c2+1), dis, n))\n",
    "    ac_cols.append(n)"
   ]
  }
 ],
 "metadata": {
  "kernelspec": {
   "display_name": "Python 3",
   "language": "python",
   "name": "python3"
  },
  "language_info": {
   "codemirror_mode": {
    "name": "ipython",
    "version": 3
   },
   "file_extension": ".py",
   "mimetype": "text/x-python",
   "name": "python",
   "nbconvert_exporter": "python",
   "pygments_lexer": "ipython3",
   "version": "3.6.0"
  }
 },
 "nbformat": 4,
 "nbformat_minor": 2
}
