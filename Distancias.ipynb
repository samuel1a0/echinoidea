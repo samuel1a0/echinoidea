{
 "cells": [
  {
   "cell_type": "code",
   "execution_count": 1,
   "metadata": {
    "collapsed": false
   },
   "outputs": [],
   "source": [
    "import pandas as pd\n",
    "import numpy as np\n",
    "import matplotlib.pyplot as plt\n",
    "from scipy.cluster.hierarchy import dendrogram\n",
    "from scipy.cluster.hierarchy import linkage"
   ]
  },
  {
   "cell_type": "code",
   "execution_count": 2,
   "metadata": {
    "collapsed": false,
    "scrolled": true
   },
   "outputs": [
    {
     "data": {
      "text/html": [
       "<div>\n",
       "<table border=\"1\" class=\"dataframe\">\n",
       "  <thead>\n",
       "    <tr style=\"text-align: right;\">\n",
       "      <th></th>\n",
       "      <th>H</th>\n",
       "      <th>j</th>\n",
       "      <th>c</th>\n",
       "    </tr>\n",
       "  </thead>\n",
       "  <tbody>\n",
       "    <tr>\n",
       "      <th>E1</th>\n",
       "      <td>0.650</td>\n",
       "      <td>0.260</td>\n",
       "      <td>0.925</td>\n",
       "    </tr>\n",
       "    <tr>\n",
       "      <th>E2</th>\n",
       "      <td>0.185</td>\n",
       "      <td>0.109</td>\n",
       "      <td>0.300</td>\n",
       "    </tr>\n",
       "    <tr>\n",
       "      <th>E3</th>\n",
       "      <td>0.100</td>\n",
       "      <td>0.039</td>\n",
       "      <td>0.077</td>\n",
       "    </tr>\n",
       "    <tr>\n",
       "      <th>E4</th>\n",
       "      <td>0.100</td>\n",
       "      <td>0.060</td>\n",
       "      <td>0.169</td>\n",
       "    </tr>\n",
       "  </tbody>\n",
       "</table>\n",
       "</div>"
      ],
      "text/plain": [
       "        H      j      c\n",
       "E1  0.650  0.260  0.925\n",
       "E2  0.185  0.109  0.300\n",
       "E3  0.100  0.039  0.077\n",
       "E4  0.100  0.060  0.169"
      ]
     },
     "execution_count": 2,
     "metadata": {},
     "output_type": "execute_result"
    }
   ],
   "source": [
    "arr = np.array([[.65, .185, .1, .1],\n",
    "       [.26, .109, .039, .06],\n",
    "       [.925, .3, .077, .169]])\n",
    "arr = arr.T\n",
    "df = pd.DataFrame(arr, columns=[\"H\", \"j\", \"c\"], index=[\"E1\", \"E2\", \"E3\", \"E4\"])\n",
    "df"
   ]
  },
  {
   "cell_type": "code",
   "execution_count": 21,
   "metadata": {
    "collapsed": false
   },
   "outputs": [
    {
     "data": {
      "text/html": [
       "<div>\n",
       "<table border=\"1\" class=\"dataframe\">\n",
       "  <thead>\n",
       "    <tr style=\"text-align: right;\">\n",
       "      <th></th>\n",
       "      <th>H</th>\n",
       "      <th>j</th>\n",
       "      <th>c</th>\n",
       "    </tr>\n",
       "  </thead>\n",
       "  <tbody>\n",
       "    <tr>\n",
       "      <th>count</th>\n",
       "      <td>4.000000</td>\n",
       "      <td>4.000000</td>\n",
       "      <td>4.000000</td>\n",
       "    </tr>\n",
       "    <tr>\n",
       "      <th>mean</th>\n",
       "      <td>0.258750</td>\n",
       "      <td>0.117000</td>\n",
       "      <td>0.367750</td>\n",
       "    </tr>\n",
       "    <tr>\n",
       "      <th>std</th>\n",
       "      <td>0.263893</td>\n",
       "      <td>0.099743</td>\n",
       "      <td>0.382603</td>\n",
       "    </tr>\n",
       "    <tr>\n",
       "      <th>min</th>\n",
       "      <td>0.100000</td>\n",
       "      <td>0.039000</td>\n",
       "      <td>0.077000</td>\n",
       "    </tr>\n",
       "    <tr>\n",
       "      <th>25%</th>\n",
       "      <td>0.100000</td>\n",
       "      <td>0.054750</td>\n",
       "      <td>0.146000</td>\n",
       "    </tr>\n",
       "    <tr>\n",
       "      <th>50%</th>\n",
       "      <td>0.142500</td>\n",
       "      <td>0.084500</td>\n",
       "      <td>0.234500</td>\n",
       "    </tr>\n",
       "    <tr>\n",
       "      <th>75%</th>\n",
       "      <td>0.301250</td>\n",
       "      <td>0.146750</td>\n",
       "      <td>0.456250</td>\n",
       "    </tr>\n",
       "    <tr>\n",
       "      <th>max</th>\n",
       "      <td>0.650000</td>\n",
       "      <td>0.260000</td>\n",
       "      <td>0.925000</td>\n",
       "    </tr>\n",
       "  </tbody>\n",
       "</table>\n",
       "</div>"
      ],
      "text/plain": [
       "              H         j         c\n",
       "count  4.000000  4.000000  4.000000\n",
       "mean   0.258750  0.117000  0.367750\n",
       "std    0.263893  0.099743  0.382603\n",
       "min    0.100000  0.039000  0.077000\n",
       "25%    0.100000  0.054750  0.146000\n",
       "50%    0.142500  0.084500  0.234500\n",
       "75%    0.301250  0.146750  0.456250\n",
       "max    0.650000  0.260000  0.925000"
      ]
     },
     "execution_count": 21,
     "metadata": {},
     "output_type": "execute_result"
    }
   ],
   "source": [
    "# Descripción del dataframe\n",
    "df.describe()"
   ]
  },
  {
   "cell_type": "code",
   "execution_count": 19,
   "metadata": {
    "collapsed": false
   },
   "outputs": [
    {
     "data": {
      "text/html": [
       "<div>\n",
       "<table border=\"1\" class=\"dataframe\">\n",
       "  <thead>\n",
       "    <tr style=\"text-align: right;\">\n",
       "      <th></th>\n",
       "      <th>H</th>\n",
       "      <th>j</th>\n",
       "      <th>c</th>\n",
       "    </tr>\n",
       "  </thead>\n",
       "  <tbody>\n",
       "    <tr>\n",
       "      <th>H</th>\n",
       "      <td>1.000000</td>\n",
       "      <td>0.987406</td>\n",
       "      <td>0.992836</td>\n",
       "    </tr>\n",
       "    <tr>\n",
       "      <th>j</th>\n",
       "      <td>0.987406</td>\n",
       "      <td>1.000000</td>\n",
       "      <td>0.997818</td>\n",
       "    </tr>\n",
       "    <tr>\n",
       "      <th>c</th>\n",
       "      <td>0.992836</td>\n",
       "      <td>0.997818</td>\n",
       "      <td>1.000000</td>\n",
       "    </tr>\n",
       "  </tbody>\n",
       "</table>\n",
       "</div>"
      ],
      "text/plain": [
       "          H         j         c\n",
       "H  1.000000  0.987406  0.992836\n",
       "j  0.987406  1.000000  0.997818\n",
       "c  0.992836  0.997818  1.000000"
      ]
     },
     "execution_count": 19,
     "metadata": {},
     "output_type": "execute_result"
    }
   ],
   "source": [
    "# Nivel de Correlación entre las columnas del dataframe\n",
    "df.corr()"
   ]
  },
  {
   "cell_type": "code",
   "execution_count": 33,
   "metadata": {
    "collapsed": false
   },
   "outputs": [
    {
     "data": {
      "image/png": "[encoded data removed]",
      "text/plain": [
       "<matplotlib.figure.Figure at 0x7f3a4c248390>"
      ]
     },
     "metadata": {},
     "output_type": "display_data"
    }
   ],
   "source": [
    "def augmented_dendrogram(*args, **kwargs):\n",
    "\n",
    "    ddata = dendrogram(*args, **kwargs)\n",
    "\n",
    "#     if not kwargs.get('no_plot', False):\n",
    "#         for i, d in zip(ddata['icoord'], ddata['dcoord']):\n",
    "#             x = 0.5 * sum(i[1:3])\n",
    "#             y = d[1]\n",
    "#             plt.plot(x, y, 'ro')\n",
    "#             plt.annotate(\"%.3g\" % y, (x, y), xytext=(0, -8),\n",
    "#                          textcoords='offset points',\n",
    "#                          va='top', ha='center')\n",
    "\n",
    "    return ddata\n",
    "\n",
    "linkage_matrix = linkage(arr, \"single\")\n",
    "\n",
    "plt.figure()#1, 2, 1)\n",
    "\n",
    "# ddata = augmented_dendrogram(linkage_matrix,\n",
    "ddata = dendrogram(linkage_matrix,\n",
    "                             labels=[\"E1\", \"E2\", \"E3\", \"E4\"],\n",
    "                             color_threshold=1,\n",
    "                             p=6,\n",
    "                             truncate_mode=None\n",
    "            #                truncate_mode='lastp'\n",
    "                           )\n",
    "# plt.title(\"Dendograma\")\n",
    "\n",
    "plt.show()"
   ]
  },
  {
   "cell_type": "markdown",
   "metadata": {},
   "source": [
    "## Distancias"
   ]
  },
  {
   "cell_type": "code",
   "execution_count": 18,
   "metadata": {
    "collapsed": false
   },
   "outputs": [
    {
     "data": {
      "text/html": [
       "<div>\n",
       "<table border=\"1\" class=\"dataframe\">\n",
       "  <thead>\n",
       "    <tr style=\"text-align: right;\">\n",
       "      <th></th>\n",
       "      <th>E1</th>\n",
       "      <th>E2</th>\n",
       "      <th>E3</th>\n",
       "      <th>E4</th>\n",
       "    </tr>\n",
       "  </thead>\n",
       "  <tbody>\n",
       "    <tr>\n",
       "      <th>E1</th>\n",
       "      <td>0.000000</td>\n",
       "      <td>0.793506</td>\n",
       "      <td>1.034623</td>\n",
       "      <td>0.956052</td>\n",
       "    </tr>\n",
       "    <tr>\n",
       "      <th>E2</th>\n",
       "      <td>0.793506</td>\n",
       "      <td>0.000000</td>\n",
       "      <td>0.248705</td>\n",
       "      <td>0.163667</td>\n",
       "    </tr>\n",
       "    <tr>\n",
       "      <th>E3</th>\n",
       "      <td>1.034623</td>\n",
       "      <td>0.248705</td>\n",
       "      <td>0.000000</td>\n",
       "      <td>0.094366</td>\n",
       "    </tr>\n",
       "    <tr>\n",
       "      <th>E4</th>\n",
       "      <td>0.956052</td>\n",
       "      <td>0.163667</td>\n",
       "      <td>0.094366</td>\n",
       "      <td>0.000000</td>\n",
       "    </tr>\n",
       "  </tbody>\n",
       "</table>\n",
       "</div>"
      ],
      "text/plain": [
       "          E1        E2        E3        E4\n",
       "E1  0.000000  0.793506  1.034623  0.956052\n",
       "E2  0.793506  0.000000  0.248705  0.163667\n",
       "E3  1.034623  0.248705  0.000000  0.094366\n",
       "E4  0.956052  0.163667  0.094366  0.000000"
      ]
     },
     "execution_count": 18,
     "metadata": {},
     "output_type": "execute_result"
    }
   ],
   "source": [
    "dist_df = pd.DataFrame(columns=df.index)\n",
    "for i, a in enumerate(arr):\n",
    "    dist = [np.linalg.norm(a-x) for x in arr]\n",
    "    dist_df.loc[i] = dist\n",
    "#     print(a, dist)\n",
    "dist_df.index = df.index\n",
    "dist_df"
   ]
  },
  {
   "cell_type": "markdown",
   "metadata": {},
   "source": [
    "### Por si necesitas las distancias despues de unidas las estaciones... (>_<)"
   ]
  },
  {
   "cell_type": "code",
   "execution_count": 32,
   "metadata": {
    "collapsed": false
   },
   "outputs": [
    {
     "name": "stdout",
     "output_type": "stream",
     "text": [
      "Dist: E3-E4 = 0.09436630754670866 (hereinafter, E5)\n",
      "Dist: E2-E5 = 0.16366734555188459 (hereinafter, E6)\n",
      "Dist: E1-E6 = 0.793505513528419 (hereinafter, E7)\n"
     ]
    }
   ],
   "source": [
    "distancias_combinadas = linkage(df, \"single\")\n",
    "ac_cols = [x for x in range(len(dist_df.columns))]\n",
    "for c1, c2, dis, x in distancias_combinadas:\n",
    "    n = len(ac_cols)+1\n",
    "    print(\"Dist: E{}-E{} = {} (hereinafter, E{})\".format(int(c1+1), int(c2+1), dis, n))\n",
    "    ac_cols.append(n)"
   ]
  }
 ],
 "metadata": {
  "kernelspec": {
   "display_name": "Python 3",
   "language": "python",
   "name": "python3"
  },
  "language_info": {
   "codemirror_mode": {
    "name": "ipython",
    "version": 3
   },
   "file_extension": ".py",
   "mimetype": "text/x-python",
   "name": "python",
   "nbconvert_exporter": "python",
   "pygments_lexer": "ipython3",
   "version": "3.6.0"
  }
 },
 "nbformat": 4,
 "nbformat_minor": 2
}
